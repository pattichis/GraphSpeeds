{
  "cells": [
    {
      "cell_type": "markdown",
      "metadata": {
        "id": "view-in-github",
        "colab_type": "text"
      },
      "source": [
        "<a href=\"https://colab.research.google.com/github/pattichis/GraphSpeeds/blob/main/GraphSpeeds_lesson_2.ipynb\" target=\"_parent\"><img src=\"https://colab.research.google.com/assets/colab-badge.svg\" alt=\"Open In Colab\"/></a>"
      ]
    },
    {
      "cell_type": "markdown",
      "source": [
        "# Setup system\n",
        "Setup the system and get files from the internet"
      ],
      "metadata": {
        "id": "FTmygZsn2wjP"
      }
    },
    {
      "cell_type": "code",
      "execution_count": 2,
      "metadata": {
        "id": "vKyqTdiiAS26",
        "outputId": "de5dc17d-8011-4934-f0e3-ffbd840508a9",
        "colab": {
          "base_uri": "https://localhost:8080/"
        }
      },
      "outputs": [
        {
          "output_type": "stream",
          "name": "stdout",
          "text": [
            "--2023-12-20 20:38:16--  https://raw.githubusercontent.com/pattichis/GraphSpeeds/main/lineart_v2.py\n",
            "Resolving raw.githubusercontent.com (raw.githubusercontent.com)... 185.199.111.133, 185.199.109.133, 185.199.108.133, ...\n",
            "Connecting to raw.githubusercontent.com (raw.githubusercontent.com)|185.199.111.133|:443... connected.\n",
            "HTTP request sent, awaiting response... 200 OK\n",
            "Length: 32845 (32K) [text/plain]\n",
            "Saving to: ‘lineart_v2.py’\n",
            "\n",
            "lineart_v2.py       100%[===================>]  32.08K  --.-KB/s    in 0.003s  \n",
            "\n",
            "2023-12-20 20:38:16 (11.8 MB/s) - ‘lineart_v2.py’ saved [32845/32845]\n",
            "\n",
            "--2023-12-20 20:38:16--  https://raw.githubusercontent.com/pattichis/GraphSpeeds/main/Bowser.jpg\n",
            "Resolving raw.githubusercontent.com (raw.githubusercontent.com)... 185.199.108.133, 185.199.110.133, 185.199.109.133, ...\n",
            "Connecting to raw.githubusercontent.com (raw.githubusercontent.com)|185.199.108.133|:443... connected.\n",
            "HTTP request sent, awaiting response... 200 OK\n",
            "Length: 201804 (197K) [image/jpeg]\n",
            "Saving to: ‘Bowser.jpg’\n",
            "\n",
            "Bowser.jpg          100%[===================>] 197.07K  --.-KB/s    in 0.02s   \n",
            "\n",
            "2023-12-20 20:38:16 (8.26 MB/s) - ‘Bowser.jpg’ saved [201804/201804]\n",
            "\n",
            "--2023-12-20 20:38:16--  https://raw.githubusercontent.com/pattichis/GraphSpeeds/main/princess_peach.jpg\n",
            "Resolving raw.githubusercontent.com (raw.githubusercontent.com)... 185.199.108.133, 185.199.109.133, 185.199.110.133, ...\n",
            "Connecting to raw.githubusercontent.com (raw.githubusercontent.com)|185.199.108.133|:443... connected.\n",
            "HTTP request sent, awaiting response... 200 OK\n",
            "Length: 25816 (25K) [image/jpeg]\n",
            "Saving to: ‘princess_peach.jpg’\n",
            "\n",
            "princess_peach.jpg  100%[===================>]  25.21K  --.-KB/s    in 0.002s  \n",
            "\n",
            "2023-12-20 20:38:17 (12.1 MB/s) - ‘princess_peach.jpg’ saved [25816/25816]\n",
            "\n",
            "--2023-12-20 20:38:17--  https://raw.githubusercontent.com/pattichis/GraphSpeeds/main/super_mario.jpg\n",
            "Resolving raw.githubusercontent.com (raw.githubusercontent.com)... 185.199.108.133, 185.199.109.133, 185.199.111.133, ...\n",
            "Connecting to raw.githubusercontent.com (raw.githubusercontent.com)|185.199.108.133|:443... connected.\n",
            "HTTP request sent, awaiting response... 200 OK\n",
            "Length: 75817 (74K) [image/jpeg]\n",
            "Saving to: ‘super_mario.jpg’\n",
            "\n",
            "super_mario.jpg     100%[===================>]  74.04K  --.-KB/s    in 0.01s   \n",
            "\n",
            "2023-12-20 20:38:17 (5.76 MB/s) - ‘super_mario.jpg’ saved [75817/75817]\n",
            "\n",
            "pygame 2.5.2 (SDL 2.28.2, Python 3.10.12)\n",
            "Hello from the pygame community. https://www.pygame.org/contribute.html\n"
          ]
        }
      ],
      "source": [
        "# Remove existing files\n",
        "import os\n",
        "\n",
        "# os.chdir(\"/content/\")\n",
        "# !find './' -maxdepth 1 -type f -delete\n",
        "\n",
        "# Stop pygame to open a window\n",
        "os.environ[\"SDL_VIDEODRIVER\"] = \"dummy\"\n",
        "\n",
        "# Download the library and the images from the internet\n",
        "!wget https://raw.githubusercontent.com/pattichis/GraphSpeeds/main/lineart_v2.py\n",
        "!wget https://raw.githubusercontent.com/pattichis/GraphSpeeds/main/Bowser.jpg\n",
        "!wget https://raw.githubusercontent.com/pattichis/GraphSpeeds/main/princess_peach.jpg\n",
        "!wget https://raw.githubusercontent.com/pattichis/GraphSpeeds/main/super_mario.jpg\n",
        "\n",
        "# Import functions and library\n",
        "from lineart_v2 import table, race, plotTablesLines\n",
        "import moviepy.editor"
      ]
    },
    {
      "cell_type": "markdown",
      "source": [
        "# Tables and object-oriented programming\n",
        "In coding, objects are used to save functions and their data for processing.\n",
        "We can create an object using a <tt>constructor</tt>.\n",
        "\n",
        "Here we create a table object to store information using:\n",
        "```\n",
        "diego = table()\n",
        "```\n",
        "We can then store data using:\n",
        "```\n",
        "diego.column_labels = [\"Time (seconds)\", 'Distance (meters)']\n",
        "diego.data_values = [[0, 15, 30], [0, 25, 50]]\n",
        "```\n",
        "We can see what we stored using <tt>print()</tt>.\n",
        "\n",
        "However, a nicer way to see the values is to use <tt>plotTable():</tt>\n",
        "```\n",
        "diego.plotTable()\n",
        "```\n",
        "\n",
        "## Assignment: modifying tables\n",
        "1. Calculate the rate at which Diego is moving.\n",
        "2. Modify the table to double the rate at which Diego is moving.\n"
      ],
      "metadata": {
        "id": "yUAi7VoT2sqU"
      }
    },
    {
      "cell_type": "code",
      "execution_count": 4,
      "metadata": {
        "id": "E9nhyBb89BEV",
        "outputId": "ba5ae0c0-8c7f-4a4c-dc27-43e342aef8a4",
        "colab": {
          "base_uri": "https://localhost:8080/",
          "height": 577
        }
      },
      "outputs": [
        {
          "output_type": "stream",
          "name": "stdout",
          "text": [
            "diego table column_labels =  ['Time (seconds)', 'Distance (meters)']\n",
            "diego table data_values   =  [[0, 15, 30], [0, 25, 50]]\n"
          ]
        },
        {
          "output_type": "display_data",
          "data": {
            "text/html": [
              "<html>\n",
              "<head><meta charset=\"utf-8\" /></head>\n",
              "<body>\n",
              "    <div>            <script src=\"https://cdnjs.cloudflare.com/ajax/libs/mathjax/2.7.5/MathJax.js?config=TeX-AMS-MML_SVG\"></script><script type=\"text/javascript\">if (window.MathJax && window.MathJax.Hub && window.MathJax.Hub.Config) {window.MathJax.Hub.Config({SVG: {font: \"STIX-Web\"}});}</script>                <script type=\"text/javascript\">window.PlotlyConfig = {MathJaxConfig: 'local'};</script>\n",
              "        <script charset=\"utf-8\" src=\"https://cdn.plot.ly/plotly-2.24.1.min.js\"></script>                <div id=\"fefff11a-f5f1-4eef-8572-1f6f9e4c7246\" class=\"plotly-graph-div\" style=\"height:525px; width:100%;\"></div>            <script type=\"text/javascript\">                                    window.PLOTLYENV=window.PLOTLYENV || {};                                    if (document.getElementById(\"fefff11a-f5f1-4eef-8572-1f6f9e4c7246\")) {                    Plotly.newPlot(                        \"fefff11a-f5f1-4eef-8572-1f6f9e4c7246\",                        [{\"cells\":{\"values\":[[0,15,30],[0,25,50]]},\"header\":{\"values\":[\"Time (seconds)\",\"Distance (meters)\"]},\"type\":\"table\"}],                        {\"template\":{\"data\":{\"histogram2dcontour\":[{\"type\":\"histogram2dcontour\",\"colorbar\":{\"outlinewidth\":0,\"ticks\":\"\"},\"colorscale\":[[0.0,\"#0d0887\"],[0.1111111111111111,\"#46039f\"],[0.2222222222222222,\"#7201a8\"],[0.3333333333333333,\"#9c179e\"],[0.4444444444444444,\"#bd3786\"],[0.5555555555555556,\"#d8576b\"],[0.6666666666666666,\"#ed7953\"],[0.7777777777777778,\"#fb9f3a\"],[0.8888888888888888,\"#fdca26\"],[1.0,\"#f0f921\"]]}],\"choropleth\":[{\"type\":\"choropleth\",\"colorbar\":{\"outlinewidth\":0,\"ticks\":\"\"}}],\"histogram2d\":[{\"type\":\"histogram2d\",\"colorbar\":{\"outlinewidth\":0,\"ticks\":\"\"},\"colorscale\":[[0.0,\"#0d0887\"],[0.1111111111111111,\"#46039f\"],[0.2222222222222222,\"#7201a8\"],[0.3333333333333333,\"#9c179e\"],[0.4444444444444444,\"#bd3786\"],[0.5555555555555556,\"#d8576b\"],[0.6666666666666666,\"#ed7953\"],[0.7777777777777778,\"#fb9f3a\"],[0.8888888888888888,\"#fdca26\"],[1.0,\"#f0f921\"]]}],\"heatmap\":[{\"type\":\"heatmap\",\"colorbar\":{\"outlinewidth\":0,\"ticks\":\"\"},\"colorscale\":[[0.0,\"#0d0887\"],[0.1111111111111111,\"#46039f\"],[0.2222222222222222,\"#7201a8\"],[0.3333333333333333,\"#9c179e\"],[0.4444444444444444,\"#bd3786\"],[0.5555555555555556,\"#d8576b\"],[0.6666666666666666,\"#ed7953\"],[0.7777777777777778,\"#fb9f3a\"],[0.8888888888888888,\"#fdca26\"],[1.0,\"#f0f921\"]]}],\"heatmapgl\":[{\"type\":\"heatmapgl\",\"colorbar\":{\"outlinewidth\":0,\"ticks\":\"\"},\"colorscale\":[[0.0,\"#0d0887\"],[0.1111111111111111,\"#46039f\"],[0.2222222222222222,\"#7201a8\"],[0.3333333333333333,\"#9c179e\"],[0.4444444444444444,\"#bd3786\"],[0.5555555555555556,\"#d8576b\"],[0.6666666666666666,\"#ed7953\"],[0.7777777777777778,\"#fb9f3a\"],[0.8888888888888888,\"#fdca26\"],[1.0,\"#f0f921\"]]}],\"contourcarpet\":[{\"type\":\"contourcarpet\",\"colorbar\":{\"outlinewidth\":0,\"ticks\":\"\"}}],\"contour\":[{\"type\":\"contour\",\"colorbar\":{\"outlinewidth\":0,\"ticks\":\"\"},\"colorscale\":[[0.0,\"#0d0887\"],[0.1111111111111111,\"#46039f\"],[0.2222222222222222,\"#7201a8\"],[0.3333333333333333,\"#9c179e\"],[0.4444444444444444,\"#bd3786\"],[0.5555555555555556,\"#d8576b\"],[0.6666666666666666,\"#ed7953\"],[0.7777777777777778,\"#fb9f3a\"],[0.8888888888888888,\"#fdca26\"],[1.0,\"#f0f921\"]]}],\"surface\":[{\"type\":\"surface\",\"colorbar\":{\"outlinewidth\":0,\"ticks\":\"\"},\"colorscale\":[[0.0,\"#0d0887\"],[0.1111111111111111,\"#46039f\"],[0.2222222222222222,\"#7201a8\"],[0.3333333333333333,\"#9c179e\"],[0.4444444444444444,\"#bd3786\"],[0.5555555555555556,\"#d8576b\"],[0.6666666666666666,\"#ed7953\"],[0.7777777777777778,\"#fb9f3a\"],[0.8888888888888888,\"#fdca26\"],[1.0,\"#f0f921\"]]}],\"mesh3d\":[{\"type\":\"mesh3d\",\"colorbar\":{\"outlinewidth\":0,\"ticks\":\"\"}}],\"scatter\":[{\"fillpattern\":{\"fillmode\":\"overlay\",\"size\":10,\"solidity\":0.2},\"type\":\"scatter\"}],\"parcoords\":[{\"type\":\"parcoords\",\"line\":{\"colorbar\":{\"outlinewidth\":0,\"ticks\":\"\"}}}],\"scatterpolargl\":[{\"type\":\"scatterpolargl\",\"marker\":{\"colorbar\":{\"outlinewidth\":0,\"ticks\":\"\"}}}],\"bar\":[{\"error_x\":{\"color\":\"#2a3f5f\"},\"error_y\":{\"color\":\"#2a3f5f\"},\"marker\":{\"line\":{\"color\":\"#E5ECF6\",\"width\":0.5},\"pattern\":{\"fillmode\":\"overlay\",\"size\":10,\"solidity\":0.2}},\"type\":\"bar\"}],\"scattergeo\":[{\"type\":\"scattergeo\",\"marker\":{\"colorbar\":{\"outlinewidth\":0,\"ticks\":\"\"}}}],\"scatterpolar\":[{\"type\":\"scatterpolar\",\"marker\":{\"colorbar\":{\"outlinewidth\":0,\"ticks\":\"\"}}}],\"histogram\":[{\"marker\":{\"pattern\":{\"fillmode\":\"overlay\",\"size\":10,\"solidity\":0.2}},\"type\":\"histogram\"}],\"scattergl\":[{\"type\":\"scattergl\",\"marker\":{\"colorbar\":{\"outlinewidth\":0,\"ticks\":\"\"}}}],\"scatter3d\":[{\"type\":\"scatter3d\",\"line\":{\"colorbar\":{\"outlinewidth\":0,\"ticks\":\"\"}},\"marker\":{\"colorbar\":{\"outlinewidth\":0,\"ticks\":\"\"}}}],\"scattermapbox\":[{\"type\":\"scattermapbox\",\"marker\":{\"colorbar\":{\"outlinewidth\":0,\"ticks\":\"\"}}}],\"scatterternary\":[{\"type\":\"scatterternary\",\"marker\":{\"colorbar\":{\"outlinewidth\":0,\"ticks\":\"\"}}}],\"scattercarpet\":[{\"type\":\"scattercarpet\",\"marker\":{\"colorbar\":{\"outlinewidth\":0,\"ticks\":\"\"}}}],\"carpet\":[{\"aaxis\":{\"endlinecolor\":\"#2a3f5f\",\"gridcolor\":\"white\",\"linecolor\":\"white\",\"minorgridcolor\":\"white\",\"startlinecolor\":\"#2a3f5f\"},\"baxis\":{\"endlinecolor\":\"#2a3f5f\",\"gridcolor\":\"white\",\"linecolor\":\"white\",\"minorgridcolor\":\"white\",\"startlinecolor\":\"#2a3f5f\"},\"type\":\"carpet\"}],\"table\":[{\"cells\":{\"fill\":{\"color\":\"#EBF0F8\"},\"line\":{\"color\":\"white\"}},\"header\":{\"fill\":{\"color\":\"#C8D4E3\"},\"line\":{\"color\":\"white\"}},\"type\":\"table\"}],\"barpolar\":[{\"marker\":{\"line\":{\"color\":\"#E5ECF6\",\"width\":0.5},\"pattern\":{\"fillmode\":\"overlay\",\"size\":10,\"solidity\":0.2}},\"type\":\"barpolar\"}],\"pie\":[{\"automargin\":true,\"type\":\"pie\"}]},\"layout\":{\"autotypenumbers\":\"strict\",\"colorway\":[\"#636efa\",\"#EF553B\",\"#00cc96\",\"#ab63fa\",\"#FFA15A\",\"#19d3f3\",\"#FF6692\",\"#B6E880\",\"#FF97FF\",\"#FECB52\"],\"font\":{\"color\":\"#2a3f5f\"},\"hovermode\":\"closest\",\"hoverlabel\":{\"align\":\"left\"},\"paper_bgcolor\":\"white\",\"plot_bgcolor\":\"#E5ECF6\",\"polar\":{\"bgcolor\":\"#E5ECF6\",\"angularaxis\":{\"gridcolor\":\"white\",\"linecolor\":\"white\",\"ticks\":\"\"},\"radialaxis\":{\"gridcolor\":\"white\",\"linecolor\":\"white\",\"ticks\":\"\"}},\"ternary\":{\"bgcolor\":\"#E5ECF6\",\"aaxis\":{\"gridcolor\":\"white\",\"linecolor\":\"white\",\"ticks\":\"\"},\"baxis\":{\"gridcolor\":\"white\",\"linecolor\":\"white\",\"ticks\":\"\"},\"caxis\":{\"gridcolor\":\"white\",\"linecolor\":\"white\",\"ticks\":\"\"}},\"coloraxis\":{\"colorbar\":{\"outlinewidth\":0,\"ticks\":\"\"}},\"colorscale\":{\"sequential\":[[0.0,\"#0d0887\"],[0.1111111111111111,\"#46039f\"],[0.2222222222222222,\"#7201a8\"],[0.3333333333333333,\"#9c179e\"],[0.4444444444444444,\"#bd3786\"],[0.5555555555555556,\"#d8576b\"],[0.6666666666666666,\"#ed7953\"],[0.7777777777777778,\"#fb9f3a\"],[0.8888888888888888,\"#fdca26\"],[1.0,\"#f0f921\"]],\"sequentialminus\":[[0.0,\"#0d0887\"],[0.1111111111111111,\"#46039f\"],[0.2222222222222222,\"#7201a8\"],[0.3333333333333333,\"#9c179e\"],[0.4444444444444444,\"#bd3786\"],[0.5555555555555556,\"#d8576b\"],[0.6666666666666666,\"#ed7953\"],[0.7777777777777778,\"#fb9f3a\"],[0.8888888888888888,\"#fdca26\"],[1.0,\"#f0f921\"]],\"diverging\":[[0,\"#8e0152\"],[0.1,\"#c51b7d\"],[0.2,\"#de77ae\"],[0.3,\"#f1b6da\"],[0.4,\"#fde0ef\"],[0.5,\"#f7f7f7\"],[0.6,\"#e6f5d0\"],[0.7,\"#b8e186\"],[0.8,\"#7fbc41\"],[0.9,\"#4d9221\"],[1,\"#276419\"]]},\"xaxis\":{\"gridcolor\":\"white\",\"linecolor\":\"white\",\"ticks\":\"\",\"title\":{\"standoff\":15},\"zerolinecolor\":\"white\",\"automargin\":true,\"zerolinewidth\":2},\"yaxis\":{\"gridcolor\":\"white\",\"linecolor\":\"white\",\"ticks\":\"\",\"title\":{\"standoff\":15},\"zerolinecolor\":\"white\",\"automargin\":true,\"zerolinewidth\":2},\"scene\":{\"xaxis\":{\"backgroundcolor\":\"#E5ECF6\",\"gridcolor\":\"white\",\"linecolor\":\"white\",\"showbackground\":true,\"ticks\":\"\",\"zerolinecolor\":\"white\",\"gridwidth\":2},\"yaxis\":{\"backgroundcolor\":\"#E5ECF6\",\"gridcolor\":\"white\",\"linecolor\":\"white\",\"showbackground\":true,\"ticks\":\"\",\"zerolinecolor\":\"white\",\"gridwidth\":2},\"zaxis\":{\"backgroundcolor\":\"#E5ECF6\",\"gridcolor\":\"white\",\"linecolor\":\"white\",\"showbackground\":true,\"ticks\":\"\",\"zerolinecolor\":\"white\",\"gridwidth\":2}},\"shapedefaults\":{\"line\":{\"color\":\"#2a3f5f\"}},\"annotationdefaults\":{\"arrowcolor\":\"#2a3f5f\",\"arrowhead\":0,\"arrowwidth\":1},\"geo\":{\"bgcolor\":\"white\",\"landcolor\":\"#E5ECF6\",\"subunitcolor\":\"white\",\"showland\":true,\"showlakes\":true,\"lakecolor\":\"white\"},\"title\":{\"x\":0.05},\"mapbox\":{\"style\":\"light\"}}},\"autosize\":false},                        {\"responsive\": true}                    ).then(function(){\n",
              "                            \n",
              "var gd = document.getElementById('fefff11a-f5f1-4eef-8572-1f6f9e4c7246');\n",
              "var x = new MutationObserver(function (mutations, observer) {{\n",
              "        var display = window.getComputedStyle(gd).display;\n",
              "        if (!display || display === 'none') {{\n",
              "            console.log([gd, 'removed!']);\n",
              "            Plotly.purge(gd);\n",
              "            observer.disconnect();\n",
              "        }}\n",
              "}});\n",
              "\n",
              "// Listen for the removal of the full notebook cells\n",
              "var notebookContainer = gd.closest('#notebook-container');\n",
              "if (notebookContainer) {{\n",
              "    x.observe(notebookContainer, {childList: true});\n",
              "}}\n",
              "\n",
              "// Listen for the clearing of the current output cell\n",
              "var outputEl = gd.closest('.output');\n",
              "if (outputEl) {{\n",
              "    x.observe(outputEl, {childList: true});\n",
              "}}\n",
              "\n",
              "                        })                };                            </script>        </div>\n",
              "</body>\n",
              "</html>"
            ]
          },
          "metadata": {}
        }
      ],
      "source": [
        "# Create a table for Diego's time and distance\n",
        "diego = table()\n",
        "\n",
        "# Set diego table column lables and data\n",
        "diego.column_labels = [\"Time (seconds)\", 'Distance (meters)']\n",
        "diego.data_values = [[0, 15, 30], [0, 25, 50]]\n",
        "\n",
        "# print the values that we saved\n",
        "print(\"diego table column_labels = \", diego.column_labels)\n",
        "print(\"diego table data_values   = \", diego.data_values)\n",
        "\n",
        "# Nice way to plot table:\n",
        "diego.plotTable()"
      ]
    },
    {
      "cell_type": "markdown",
      "source": [
        "# More table objects\n",
        "We can create multiple tables using different names.\n",
        "\n",
        "To create a table for <tt>lin</tt>, use:\n",
        "```\n",
        "lin = table()\n",
        "```\n",
        "## Assignment: create different tables\n",
        "Use new names to generate two more tables.\n"
      ],
      "metadata": {
        "id": "90bqQnh2Bw7F"
      }
    },
    {
      "cell_type": "code",
      "execution_count": null,
      "metadata": {
        "id": "MXEVMRMX-PvM"
      },
      "outputs": [],
      "source": [
        "# Create a table for Lin's time and distance\n",
        "lin = table()\n",
        "\n",
        "# Set lin table column lables and data\n",
        "lin.column_labels = [\"Time (seconds)\", 'Distance (meters)']\n",
        "lin.data_values = [[0, 10, 20], [0, 25, 50]]\n",
        "\n",
        "# Plot lin table\n",
        "lin.plotTable()"
      ]
    },
    {
      "cell_type": "code",
      "execution_count": null,
      "metadata": {
        "id": "Bwvx-fKo-wqm"
      },
      "outputs": [],
      "source": [
        "# Create a table for Tyler's time and distance\n",
        "tyler = table()\n",
        "\n",
        "# Set tyler table column lables and data\n",
        "tyler.column_labels = [\"Time (seconds)\", 'Distance (meters)']\n",
        "tyler.data_values = [[0, 20, 30, 40], [0, 25, 37.5, 50]]\n",
        "\n",
        "# Plot tyler table\n",
        "tyler.plotTable()"
      ]
    },
    {
      "cell_type": "code",
      "execution_count": null,
      "metadata": {
        "id": "KjmburlD_PKM"
      },
      "outputs": [],
      "source": [
        "# Merge three tables\n",
        "merged_tables = [diego, lin, tyler]"
      ]
    },
    {
      "cell_type": "code",
      "execution_count": null,
      "metadata": {
        "id": "GWQP9huZ_ZLw"
      },
      "outputs": [],
      "source": [
        "# Line equations of tables\n",
        "legend_labels = [\n",
        "      'Diego: d = 1.66*t',\n",
        "      'Lin: d = 2.5*t',\n",
        "      'Tyler: d = 1.25*t']"
      ]
    },
    {
      "cell_type": "code",
      "execution_count": null,
      "metadata": {
        "id": "G1MOTX-j_m7A"
      },
      "outputs": [],
      "source": [
        "# Plot tables\n",
        "plotTablesLines(merged_tables,\n",
        "                fig_title = 'Race to the Bumpers',\n",
        "                x_label = 'Elapsed time (seconds)',\n",
        "                y_label = 'Distance from ticket boot (meters)',\n",
        "                legend_title = 'Journey',\n",
        "                legend_labels = legend_labels)"
      ]
    },
    {
      "cell_type": "code",
      "execution_count": null,
      "metadata": {
        "id": "cJl7ZtyLhz5A"
      },
      "outputs": [],
      "source": [
        "# Add diego's picture, speed, location\n",
        "diego.img_path = \"super_mario.jpg\"\n",
        "diego.img_speed = 10\n",
        "diego.img_loc = (0, 50)"
      ]
    },
    {
      "cell_type": "code",
      "execution_count": null,
      "metadata": {
        "id": "o9MqFP-eiNmK"
      },
      "outputs": [],
      "source": [
        "# Add lin's picture, speed, location\n",
        "lin.img_path = \"princess_peach.jpg\"\n",
        "lin.img_speed = 20\n",
        "lin.img_loc = (0, 200)"
      ]
    },
    {
      "cell_type": "code",
      "execution_count": null,
      "metadata": {
        "id": "m2t36vQbiYrn"
      },
      "outputs": [],
      "source": [
        "# Add tyler's picture, speed, location\n",
        "tyler.img_path = \"Bowser.jpg\"\n",
        "tyler.img_speed = 15\n",
        "tyler.img_loc = (0, 400)"
      ]
    },
    {
      "cell_type": "code",
      "execution_count": null,
      "metadata": {
        "id": "oQfXq8WvsuyV"
      },
      "outputs": [],
      "source": [
        "# Merge the updated tables\n",
        "merged_tables = [diego, lin, tyler]"
      ]
    },
    {
      "cell_type": "code",
      "execution_count": null,
      "metadata": {
        "id": "womsPoXzNX0v"
      },
      "outputs": [],
      "source": [
        "# Add Image names\n",
        "image_names = ['Super Mario',\n",
        "               'Princess Peach',\n",
        "               'Bowser']"
      ]
    },
    {
      "cell_type": "code",
      "execution_count": null,
      "metadata": {
        "id": "Pw8Vxf63dwbi"
      },
      "outputs": [],
      "source": [
        "# View Race\n",
        "race(merged_tables, img_names = image_names, fps = 10)\n",
        "race_video = moviepy.editor.VideoFileClip('out_vid.mp4')\n",
        "race_video.ipython_display()"
      ]
    }
  ],
  "metadata": {
    "colab": {
      "gpuType": "T4",
      "provenance": [],
      "toc_visible": true,
      "include_colab_link": true
    },
    "kernelspec": {
      "display_name": "Python 3 (ipykernel)",
      "language": "python",
      "name": "python3"
    },
    "language_info": {
      "codemirror_mode": {
        "name": "ipython",
        "version": 3
      },
      "file_extension": ".py",
      "mimetype": "text/x-python",
      "name": "python",
      "nbconvert_exporter": "python",
      "pygments_lexer": "ipython3",
      "version": "3.10.13"
    }
  },
  "nbformat": 4,
  "nbformat_minor": 0
}