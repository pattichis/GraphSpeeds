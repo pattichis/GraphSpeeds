{
  "cells": [
    {
      "cell_type": "markdown",
      "metadata": {
        "id": "view-in-github",
        "colab_type": "text"
      },
      "source": [
        "<a href=\"https://colab.research.google.com/github/pattichis/GraphSpeeds/blob/main/GraphSpeeds_lesson_2.ipynb\" target=\"_parent\"><img src=\"https://colab.research.google.com/assets/colab-badge.svg\" alt=\"Open In Colab\"/></a>"
      ]
    },
    {
      "cell_type": "code",
      "execution_count": 2,
      "metadata": {
        "id": "vKyqTdiiAS26"
      },
      "outputs": [],
      "source": [
        "# Remove existing files\n",
        "import os\n",
        "\n",
        "os.chdir(\"/content/\")\n",
        "!find './' -maxdepth 1 -type f -delete\n",
        "\n",
        "# Stop pygame to open a window\n",
        "os.environ[\"SDL_VIDEODRIVER\"] = \"dummy\""
      ]
    },
    {
      "cell_type": "code",
      "execution_count": 6,
      "metadata": {
        "id": "HIP1Looh8mqy"
      },
      "outputs": [],
      "source": [
        "%%capture\n",
        "\n",
        "# Download the library and images\n",
        "!wget https://raw.githubusercontent.com/pattichis/GraphSpeeds/lineart_v2.py\n",
        "!wget 'https://raw.githubusercontent.com/pattichis/GraphSpeeds/Bowser.jpg'\n",
        "!wget 'https://raw.githubusercontent.com/pattichis/GraphSpeeds/princess_peach.jpg'\n",
        "!wget 'https://raw.githubusercontent.com/pattichis/GraphSpeeds//super_mario.jpg'"
      ]
    },
    {
      "cell_type": "code",
      "execution_count": 4,
      "metadata": {
        "id": "aSKuKbRt8r7i",
        "colab": {
          "base_uri": "https://localhost:8080/",
          "height": 349
        },
        "outputId": "f92b9a0f-b51b-4ffd-a4ea-c472a353ff6b"
      },
      "outputs": [
        {
          "output_type": "error",
          "ename": "ModuleNotFoundError",
          "evalue": "ignored",
          "traceback": [
            "\u001b[0;31m---------------------------------------------------------------------------\u001b[0m",
            "\u001b[0;31mModuleNotFoundError\u001b[0m                       Traceback (most recent call last)",
            "\u001b[0;32m<ipython-input-4-6f0dadd0908f>\u001b[0m in \u001b[0;36m<cell line: 2>\u001b[0;34m()\u001b[0m\n\u001b[1;32m      1\u001b[0m \u001b[0;31m# Import library\u001b[0m\u001b[0;34m\u001b[0m\u001b[0;34m\u001b[0m\u001b[0m\n\u001b[0;32m----> 2\u001b[0;31m \u001b[0;32mfrom\u001b[0m \u001b[0mlineart_v2\u001b[0m \u001b[0;32mimport\u001b[0m \u001b[0mtable\u001b[0m\u001b[0;34m,\u001b[0m \u001b[0mrace\u001b[0m\u001b[0;34m,\u001b[0m \u001b[0mplotTablesLines\u001b[0m\u001b[0;34m\u001b[0m\u001b[0;34m\u001b[0m\u001b[0m\n\u001b[0m\u001b[1;32m      3\u001b[0m \u001b[0;32mimport\u001b[0m \u001b[0mmoviepy\u001b[0m\u001b[0;34m.\u001b[0m\u001b[0meditor\u001b[0m\u001b[0;34m\u001b[0m\u001b[0;34m\u001b[0m\u001b[0m\n",
            "\u001b[0;31mModuleNotFoundError\u001b[0m: No module named 'lineart_v2'",
            "",
            "\u001b[0;31m---------------------------------------------------------------------------\u001b[0;32m\nNOTE: If your import is failing due to a missing package, you can\nmanually install dependencies using either !pip or !apt.\n\nTo view examples of installing some common dependencies, click the\n\"Open Examples\" button below.\n\u001b[0;31m---------------------------------------------------------------------------\u001b[0m\n"
          ],
          "errorDetails": {
            "actions": [
              {
                "action": "open_url",
                "actionText": "Open Examples",
                "url": "/notebooks/snippets/importing_libraries.ipynb"
              }
            ]
          }
        }
      ],
      "source": [
        "# Import library\n",
        "from lineart_v2 import table, race, plotTablesLines\n",
        "import moviepy.editor"
      ]
    },
    {
      "cell_type": "code",
      "execution_count": null,
      "metadata": {
        "id": "E9nhyBb89BEV"
      },
      "outputs": [],
      "source": [
        "# Create a table for Diego's time and distance\n",
        "diego = table()\n",
        "\n",
        "# Set diego table column lables and data\n",
        "diego.column_labels = [\"Time (seconds)\", 'Distance (meters)']\n",
        "diego.data_values = [[0, 15, 30], [0, 25, 50]]"
      ]
    },
    {
      "cell_type": "code",
      "execution_count": null,
      "metadata": {
        "id": "nbBxiw-T-B8E"
      },
      "outputs": [],
      "source": [
        "# Plot diego table\n",
        "diego.plotTable()"
      ]
    },
    {
      "cell_type": "code",
      "execution_count": null,
      "metadata": {
        "id": "MXEVMRMX-PvM"
      },
      "outputs": [],
      "source": [
        "# Create a table for Lin's time and distance\n",
        "lin = table()\n",
        "\n",
        "# Set lin table column lables and data\n",
        "lin.column_labels = [\"Time (seconds)\", 'Distance (meters)']\n",
        "lin.data_values = [[0, 10, 20], [0, 25, 50]]\n"
      ]
    },
    {
      "cell_type": "code",
      "execution_count": null,
      "metadata": {
        "id": "ER90hxLj-odw"
      },
      "outputs": [],
      "source": [
        "# Plot lin table\n",
        "lin.plotTable()"
      ]
    },
    {
      "cell_type": "code",
      "execution_count": null,
      "metadata": {
        "id": "Bwvx-fKo-wqm"
      },
      "outputs": [],
      "source": [
        "# Create a table for Tyler's time and distance\n",
        "tyler = table()\n",
        "\n",
        "# Set tyler table column lables and data\n",
        "tyler.column_labels = [\"Time (seconds)\", 'Distance (meters)']\n",
        "tyler.data_values = [[0, 20, 30, 40], [0, 25, 37.5, 50]]\n"
      ]
    },
    {
      "cell_type": "code",
      "execution_count": null,
      "metadata": {
        "id": "uHdiDXx3_DkM"
      },
      "outputs": [],
      "source": [
        "# Plot tyler table\n",
        "tyler.plotTable()"
      ]
    },
    {
      "cell_type": "code",
      "execution_count": null,
      "metadata": {
        "id": "KjmburlD_PKM"
      },
      "outputs": [],
      "source": [
        "# Merge three tables\n",
        "merged_tables = [diego, lin, tyler]"
      ]
    },
    {
      "cell_type": "code",
      "execution_count": null,
      "metadata": {
        "id": "GWQP9huZ_ZLw"
      },
      "outputs": [],
      "source": [
        "# Line equations of tables\n",
        "legend_labels = [\n",
        "      'Diego: d = 1.66*t',\n",
        "      'Lin: d = 2.5*t',\n",
        "      'Tyler: d = 1.25*t']"
      ]
    },
    {
      "cell_type": "code",
      "execution_count": null,
      "metadata": {
        "id": "G1MOTX-j_m7A"
      },
      "outputs": [],
      "source": [
        "# Plot tables\n",
        "plotTablesLines(merged_tables,\n",
        "                fig_title = 'Race to the Bumpers',\n",
        "                x_label = 'Elapsed time (seconds)',\n",
        "                y_label = 'Distance from ticket boot (meters)',\n",
        "                legend_title = 'Journey',\n",
        "                legend_labels = legend_labels)"
      ]
    },
    {
      "cell_type": "code",
      "execution_count": null,
      "metadata": {
        "id": "cJl7ZtyLhz5A"
      },
      "outputs": [],
      "source": [
        "# Add diego's picture, speed, location\n",
        "diego.img_path = \"super_mario.jpg\"\n",
        "diego.img_speed = 10\n",
        "diego.img_loc = (0, 50)"
      ]
    },
    {
      "cell_type": "code",
      "execution_count": null,
      "metadata": {
        "id": "o9MqFP-eiNmK"
      },
      "outputs": [],
      "source": [
        "# Add lin's picture, speed, location\n",
        "lin.img_path = \"princess_peach.jpg\"\n",
        "lin.img_speed = 20\n",
        "lin.img_loc = (0, 200)"
      ]
    },
    {
      "cell_type": "code",
      "execution_count": null,
      "metadata": {
        "id": "m2t36vQbiYrn"
      },
      "outputs": [],
      "source": [
        "# Add tyler's picture, speed, location\n",
        "tyler.img_path = \"Bowser.jpg\"\n",
        "tyler.img_speed = 15\n",
        "tyler.img_loc = (0, 400)"
      ]
    },
    {
      "cell_type": "code",
      "execution_count": null,
      "metadata": {
        "id": "oQfXq8WvsuyV"
      },
      "outputs": [],
      "source": [
        "# Merge the updated tables\n",
        "merged_tables = [diego, lin, tyler]"
      ]
    },
    {
      "cell_type": "code",
      "execution_count": null,
      "metadata": {
        "id": "womsPoXzNX0v"
      },
      "outputs": [],
      "source": [
        "# Add Image names\n",
        "image_names = ['Super Mario',\n",
        "               'Princess Peach',\n",
        "               'Bowser']"
      ]
    },
    {
      "cell_type": "code",
      "execution_count": null,
      "metadata": {
        "id": "Pw8Vxf63dwbi"
      },
      "outputs": [],
      "source": [
        "# View Race\n",
        "race(merged_tables, img_names = image_names, fps = 10)\n",
        "race_video = moviepy.editor.VideoFileClip('out_vid.mp4')\n",
        "race_video.ipython_display()"
      ]
    }
  ],
  "metadata": {
    "colab": {
      "gpuType": "T4",
      "provenance": [],
      "include_colab_link": true
    },
    "kernelspec": {
      "display_name": "Python 3 (ipykernel)",
      "language": "python",
      "name": "python3"
    },
    "language_info": {
      "codemirror_mode": {
        "name": "ipython",
        "version": 3
      },
      "file_extension": ".py",
      "mimetype": "text/x-python",
      "name": "python",
      "nbconvert_exporter": "python",
      "pygments_lexer": "ipython3",
      "version": "3.10.13"
    }
  },
  "nbformat": 4,
  "nbformat_minor": 0
}