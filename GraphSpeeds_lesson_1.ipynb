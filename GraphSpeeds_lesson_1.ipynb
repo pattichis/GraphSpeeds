{
  "cells": [
    {
      "cell_type": "markdown",
      "metadata": {
        "colab_type": "text",
        "id": "view-in-github"
      },
      "source": [
        "<a href=\"https://colab.research.google.com/github/pattichis/GraphSpeeds/blob/main/GraphSpeeds_lesson_1.ipynb\" target=\"_parent\"><img src=\"https://colab.research.google.com/assets/colab-badge.svg\" alt=\"Open In Colab\"/></a>"
      ]
    },
    {
      "cell_type": "markdown",
      "metadata": {
        "id": "rbk-KSk6jo4D"
      },
      "source": [
        "# Introduction to Variables\n",
        "\n",
        "Run the following code by clicking on the play button inside [ ].\n",
        "\n",
        "What can you see?\n",
        "\n",
        "Comments are used for making notes:\n",
        "\n",
        "```\n",
        "# After this special character, computer ignores the text.\n",
        "```\n",
        "\n",
        "A variable is created using the following line:\n",
        "```\n",
        "x = 3\n",
        "```\n",
        "Thus, the variable <tt>x</tt> stores the value 3.</br>\n",
        "<b>Whenever we see <tt>x</tt>, remember that <tt>x</tt> holds the value of 3.</b>\n",
        "\n",
        "Note the special format</br>\n",
        "- The name of the variable is on the left of <tt>=</tt>.\n",
        "- On the right of <tt>=</tt>, we have an expression.\n",
        "- The computer will not understand <tt>3 = x</tt>, eventhough this is valid mathematically!\n",
        "\n",
        "We can see what <tt>x</tt> holds using:\n",
        "```\n",
        "print(x)\n",
        "```\n",
        "\n",
        "In programming, we say that <tt>print()</tt> is a\n",
        " <b>function</b>.\n",
        "\n",
        "We say that the variable <tt>x</tt> is an argument to\n",
        "   <tt>print()</tt>.\n",
        "\n",
        "We can change what we print by changing the variable <tt>a</tt>.   \n",
        "\n",
        "Carefully review the code line-by-line to understand how it works.\n",
        "\n",
        "## Assignment: understanding comments and variables\n",
        "Study the code and answer the following:\n",
        "1. Does the output change if you change a comment?\n",
        "2. Note the () after print. What happens when you remove one of them or both?\n",
        "3. What is the variable in the code?\n",
        "4. Can you change the code so that it will print 5?\n",
        "\n"
      ]
    },
    {
      "cell_type": "code",
      "execution_count": 1,
      "metadata": {
        "colab": {
          "base_uri": "https://localhost:8080/"
        },
        "id": "fDX4Rl0PjqJQ",
        "outputId": "26b91d78-415b-4a00-814e-5868f73a50f0"
      },
      "outputs": [
        {
          "name": "stdout",
          "output_type": "stream",
          "text": [
            "5\n"
          ]
        }
      ],
      "source": [
        "# Hello. This line is for humans to read.\n",
        "# It is not to be executed.\n",
        "# When you first type #, we have a comment. Typing here does not affect anything\n",
        "# Comments are used to explain programs to humans.\n",
        "# Computers do not execute the comments.\n",
        "\n",
        "# Computers use variables to store information.\n",
        "# In the following line, we store the number 3 in the variable \"x\"\n",
        "\n",
        "# What do you understand by saying that \"x\" is a variable?\n",
        "# Run this cell. Try a different value for \"x\".\n",
        "\n",
        "# Create another variable and experiment with different values.\n",
        "\n",
        "x = 5\n",
        "\n",
        "# print the value of x\n",
        "print(x)\n"
      ]
    },
    {
      "cell_type": "markdown",
      "metadata": {
        "id": "8lwSSFW5wTu2"
      },
      "source": []
    },
    {
      "cell_type": "markdown",
      "metadata": {
        "id": "Rtuf2z61h0G_"
      },
      "source": [
        "# Strings\n",
        "\n",
        "You can use variables to store characters.\n",
        "\n",
        "A collection of characters forms a string.\n",
        "\n",
        "So the following code stores your name in a variable:\n",
        "\n",
        "\n",
        "```\n",
        "MyString = \"A short phrase\"\n",
        "```\n",
        "From now on, MyString holds \"A short phrase\".\n",
        "\n",
        "\n",
        "Run the following code by clicking on the play button on the left.\n",
        "\n",
        "What can you see?\n",
        "\n",
        "Carefully read the code line-by-line to understand how it works.\n",
        "\n",
        "## Assignment: understanding strings\n",
        "Modify the code and answer the following questions:\n",
        "1. Can you change the code so that it will print your favorite food?\n",
        "2. Can you change the name of the variable to <tt>food</tt> and then <tt>print(food)</tt>?\n"
      ]
    },
    {
      "cell_type": "code",
      "execution_count": 2,
      "metadata": {
        "colab": {
          "base_uri": "https://localhost:8080/"
        },
        "id": "hfSVgnVKd6SO",
        "outputId": "c21cc102-344c-439d-e397-7027d9b4235e"
      },
      "outputs": [
        {
          "name": "stdout",
          "output_type": "stream",
          "text": [
            "Hello World!\n"
          ]
        }
      ],
      "source": [
        "# STRINGS\n",
        "# Computers understand strings.\n",
        "# The following line creates a string and stores it in the variable MyString\n",
        "MyString = \"Hello World!\"\n",
        "\n",
        "# PRINTING\n",
        "# You can now see the string in a:\n",
        "print(MyString)"
      ]
    },
    {
      "cell_type": "markdown",
      "metadata": {
        "id": "TNxqnBTNG2s4"
      },
      "source": [
        "# Understanding rates\n",
        "Consider the following problem:\n",
        "\n",
        "a. Mike drives his car 60 km in 55 minutes. What is its average speed in kilometers per minute?\n",
        "\n",
        "We compute the average speed by dividing:\n",
        "```\n",
        "distance = 60   # 60 km\n",
        "time     = 55   # 55 minutes\n",
        "rate = distance / time\n",
        "```\n",
        "We can print multiple entries using commas:\n",
        "```\n",
        "print(\"time = \", time, \" distance = \", distance)\n",
        "```\n",
        "\n",
        "## Assignment: understanding rates\n",
        "Work on the following problems:\n",
        "\n",
        "b. A police car drives 236 km in 3 hours.\n",
        "What is its average speed in kilometers per hour?\n",
        "\n",
        "c. A train travels 39 miles in 35 minutes.\n",
        "What is its average speed in miles per minute?\n",
        "\n",
        "d. A Sea Anemone moves 2.34 inches in 6 hours. What is its rate of speed?\n",
        "\n",
        "\n",
        "\n",
        "\n",
        "\n"
      ]
    },
    {
      "cell_type": "code",
      "execution_count": 3,
      "metadata": {
        "colab": {
          "base_uri": "https://localhost:8080/"
        },
        "id": "nh0H6mffnW2m",
        "outputId": "e9455955-5ddf-42e2-b7bf-e1806dc2787f"
      },
      "outputs": [
        {
          "name": "stdout",
          "output_type": "stream",
          "text": [
            "rate = distance / time\n",
            "distance  =  60  km\n",
            "time =  55  minutes\n",
            "rate =  1.0909090909090908  km/minute\n"
          ]
        }
      ],
      "source": [
        "# SOLUTION for:\n",
        "# a. Mike drives his car 60 km in 55 minutes.\n",
        "# What is its average speed in kilometers per minute?\n",
        "\n",
        "# Store the values in variables\n",
        "distance = 60\n",
        "time = 55\n",
        "rate = distance / time\n",
        "\n",
        "# print the calculation\n",
        "print(\"rate = distance / time\")\n",
        "print(\"distance  = \", distance, \" km\")\n",
        "print(\"time = \", time, \" minutes\")\n",
        "print(\"rate = \", rate, \" km/minute\")"
      ]
    },
    {
      "cell_type": "code",
      "execution_count": 4,
      "metadata": {
        "colab": {
          "base_uri": "https://localhost:8080/"
        },
        "id": "08S5QILQb1RH",
        "outputId": "39dc10e5-a606-4ca4-edad-a0baddf19e64"
      },
      "outputs": [
        {
          "name": "stdout",
          "output_type": "stream",
          "text": [
            "Average speed = distance / time\n",
            "distance  =  236  km\n",
            "time =  3  hours\n",
            "rate =  78.66666666666667  km/hour\n"
          ]
        }
      ],
      "source": [
        "# MODIFY the code to solve the following problem:\n",
        "# b. A police car drives 236 km in 3 hours.\n",
        "#    What is its average speed in kilometers per hour?\n",
        "\n",
        "# Store the values in variables\n",
        "distance = 236\n",
        "time = 3\n",
        "rate = distance / time\n",
        "\n",
        "# print the calculation\n",
        "print(\"Average speed = distance / time\")\n",
        "print(\"distance  = \", distance, \" km\")\n",
        "print(\"time = \", time, \" hours\")\n",
        "print(\"rate = \", rate, \" km/hour\")"
      ]
    },
    {
      "cell_type": "code",
      "execution_count": 5,
      "metadata": {
        "colab": {
          "base_uri": "https://localhost:8080/"
        },
        "id": "hyk1F269b2hS",
        "outputId": "39dc10e5-a606-4ca4-edad-a0baddf19e64"
      },
      "outputs": [
        {
          "name": "stdout",
          "output_type": "stream",
          "text": [
            "rate = distance / time\n",
            "distance  =  60  km\n",
            "time =  55  minutes\n",
            "rate =  1.0909090909090908  km/minute\n"
          ]
        }
      ],
      "source": [
        "# MODIFY the code to solve the following problem:\n",
        "# c. A train travels 39 miles in 35 minutes.\n",
        "#    What is its average speed in miles per minute?\n",
        "\n",
        "# Store the values in variables\n",
        "distance = 60\n",
        "time = 55\n",
        "rate = distance / time\n",
        "\n",
        "# print the calculation\n",
        "print(\"rate = distance / time\")\n",
        "print(\"distance  = \", distance, \" km\")\n",
        "print(\"time = \", time, \" minutes\")\n",
        "print(\"rate = \", rate, \" km/minute\")"
      ]
    },
    {
      "cell_type": "code",
      "execution_count": 6,
      "metadata": {
        "colab": {
          "base_uri": "https://localhost:8080/"
        },
        "id": "diN2FJ7sb3EJ",
        "outputId": "39dc10e5-a606-4ca4-edad-a0baddf19e64"
      },
      "outputs": [
        {
          "name": "stdout",
          "output_type": "stream",
          "text": [
            "rate = distance / time\n",
            "distance  =  60  km\n",
            "time =  55  minutes\n",
            "rate =  1.0909090909090908  km/minute\n"
          ]
        }
      ],
      "source": [
        "# MODIFY the code to solve the following problem:\n",
        "# d. A Sea Anemone moves 2.34 inches in 6 hours.\n",
        "#    What is its rate of speed?\n",
        "\n",
        "# Store the values in variables\n",
        "distance = 60\n",
        "time = 55\n",
        "rate = distance / time\n",
        "\n",
        "# print the calculation\n",
        "print(\"rate = distance / time\")\n",
        "print(\"distance  = \", distance, \" km\")\n",
        "print(\"time = \", time, \" minutes\")\n",
        "print(\"rate = \", rate, \" km/minute\")"
      ]
    },
    {
      "cell_type": "markdown",
      "metadata": {
        "id": "s4NjOWDbJGsZ"
      },
      "source": [
        "# Compute distances from rates\n",
        "Consider the following problem:\n",
        "\n",
        "e. Sarah rides her bike with a constant speed of 9 km/h.\n",
        "How far can she travel in 4 hours?\n",
        "\n",
        "You can compute the distance from rates using time:\n",
        "```\n",
        "rate = 9\n",
        "time = 4\n",
        "distance = rate*time\n",
        "```\n",
        "\n",
        "## Assignment: Compute distances from rates\n",
        "Modify the code to solve the following problems:\n",
        "\n",
        "f. An airplane flies with a constant speed of\n",
        "398 mph.<br>\n",
        "How far can it travel in 3 and ½ hours?\n",
        "\n",
        "g. Abigail runs at a constant speed of 350 feet per minute.<br>\n",
        "How far can she travel in 32 minutes?\n",
        "\n",
        "h. A starfish was crawling around for 45 minutes. It moves 15 centimeters each minute. How far did it travel?\n",
        "\n",
        "\n",
        "\n",
        "\n",
        "\n",
        "\n",
        "\n",
        "\n",
        "\n",
        "\n"
      ]
    },
    {
      "cell_type": "code",
      "execution_count": 7,
      "metadata": {
        "colab": {
          "base_uri": "https://localhost:8080/"
        },
        "id": "8ofZRDrSs2Nb",
        "outputId": "1f988fe0-bb4f-4d17-8bf6-c888387e2b88"
      },
      "outputs": [
        {
          "name": "stdout",
          "output_type": "stream",
          "text": [
            "distance = rate*time\n",
            "rate =  9  km/h\n",
            "time =  4  hours\n",
            "distance =  36  km\n"
          ]
        }
      ],
      "source": [
        "# SOLUTION for:\n",
        "# e. Sarah rides her bike with a constant speed of 9 km/h.\n",
        "# How far can she travel in 4 hours?\n",
        "\n",
        "# Save the variables\n",
        "rate = 9\n",
        "time = 4\n",
        "\n",
        "# Compute distance\n",
        "distance = rate*time\n",
        "\n",
        "print(\"distance = rate*time\")\n",
        "print(\"rate = \", rate, \" km/h\")\n",
        "print(\"time = \", time, \" hours\")\n",
        "print(\"distance = \", distance, \" km\")"
      ]
    },
    {
      "cell_type": "code",
      "execution_count": 8,
      "metadata": {
        "id": "hoerXF6Kdzh1"
      },
      "outputs": [
        {
          "name": "stdout",
          "output_type": "stream",
          "text": [
            "distance = rate*time\n",
            "rate =  9  km/h\n",
            "time =  4  hours\n",
            "distance =  36  km\n"
          ]
        }
      ],
      "source": [
        "# MODIFY the code to solve:\n",
        "# f. An airplane flies with a constant speed of 398 mph.\n",
        "#   How far can it travel in 3 and ½ hours?\n",
        "\n",
        "# Save the variables\n",
        "rate = 9\n",
        "time = 4\n",
        "\n",
        "# Compute distance\n",
        "distance = rate*time\n",
        "\n",
        "print(\"distance = rate*time\")\n",
        "print(\"rate = \", rate, \" km/h\")\n",
        "print(\"time = \", time, \" hours\")\n",
        "print(\"distance = \", distance, \" km\")"
      ]
    },
    {
      "cell_type": "code",
      "execution_count": 9,
      "metadata": {
        "id": "inbH4KJBdz85"
      },
      "outputs": [
        {
          "name": "stdout",
          "output_type": "stream",
          "text": [
            "distance = rate*time\n",
            "rate =  9  km/h\n",
            "time =  4  hours\n",
            "distance =  36  km\n"
          ]
        }
      ],
      "source": [
        "# MODIFY the code to solve:\n",
        "# g. Abigail runs at a constant speed of 350 feet per minute.\n",
        "# How far can she travel in 32 minutes?\n",
        "\n",
        "# Save the variables\n",
        "rate = 9\n",
        "time = 4\n",
        "\n",
        "# Compute distance\n",
        "distance = rate*time\n",
        "\n",
        "print(\"distance = rate*time\")\n",
        "print(\"rate = \", rate, \" km/h\")\n",
        "print(\"time = \", time, \" hours\")\n",
        "print(\"distance = \", distance, \" km\")"
      ]
    },
    {
      "cell_type": "code",
      "execution_count": 10,
      "metadata": {
        "id": "ss7bF8ppd0Nl"
      },
      "outputs": [
        {
          "name": "stdout",
          "output_type": "stream",
          "text": [
            "distance = rate*time\n",
            "rate =  9  km/h\n",
            "time =  4  hours\n",
            "distance =  36  km\n"
          ]
        }
      ],
      "source": [
        "# MODIFY the code to solve:\n",
        "# h. A starfish was crawling around for 45 minutes.\n",
        "#    It moves 15 centimeters each minute.\n",
        "#    How far did it travel?\n",
        "\n",
        "# Save the variables\n",
        "rate = 9\n",
        "time = 4\n",
        "\n",
        "# Compute distance\n",
        "distance = rate*time\n",
        "\n",
        "print(\"distance = rate*time\")\n",
        "print(\"rate = \", rate, \" km/h\")\n",
        "print(\"time = \", time, \" hours\")\n",
        "print(\"distance = \", distance, \" km\")"
      ]
    },
    {
      "cell_type": "markdown",
      "metadata": {
        "id": "iwKPmnSJPqUC"
      },
      "source": [
        "# Compute times from rates\n",
        "You can calculate time from rate and distance using:\n",
        "\n",
        "i. A train travels with a constant speed of 34 km/h.<br>\n",
        "How long will it take to travel a distance of 33.4 kilometers?\n",
        "\n",
        "```\n",
        "rate = 34\n",
        "distance = 33.4\n",
        "time = distance / rate\n",
        "```\n",
        "## Assignment: Compute times from rates\n",
        "Modify the code below to solve:\n",
        "\n",
        "j. An airplane flies with a constant speed of\n",
        "880 km/h.<br>\n",
        "How long will it take to travel a distance of 3652 kilometers?\n",
        "\n",
        "k. A car drives with a constant speed of\n",
        "103 km/h.<br>\n",
        "How long will it take to travel a distance of 454.9 kilometers?\n",
        "\n",
        "l. Bob rides his motorcycle with a constant speed of 30 km/h.\n",
        "How long will it take to travel a distance of 17 kilometers?\n",
        "\n",
        "\n",
        "\n"
      ]
    },
    {
      "cell_type": "code",
      "execution_count": 11,
      "metadata": {
        "colab": {
          "base_uri": "https://localhost:8080/"
        },
        "id": "kKIhCrMTt7lG",
        "outputId": "a584a57e-f4b2-4398-b30f-107106d90336"
      },
      "outputs": [
        {
          "name": "stdout",
          "output_type": "stream",
          "text": [
            "time = distance / rate\n",
            "rate =  34  km/h\n",
            "distance =  33.4  km\n",
            "time =  0.9823529411764705  hours\n"
          ]
        }
      ],
      "source": [
        "# SOLUTION for:\n",
        "# i. A train travels with a constant speed of 34 km/h.\n",
        "# How long will it take to travel a distance of 33.4 kilometers?\n",
        "\n",
        "rate = 34\n",
        "distance = 33.4\n",
        "time = distance / rate\n",
        "\n",
        "print(\"time = distance / rate\")\n",
        "print(\"rate = \", rate, \" km/h\")\n",
        "print(\"distance = \", distance, \" km\")\n",
        "print(\"time = \", time, \" hours\")"
      ]
    },
    {
      "cell_type": "code",
      "execution_count": 12,
      "metadata": {
        "id": "V_4OTtHgg59H"
      },
      "outputs": [
        {
          "name": "stdout",
          "output_type": "stream",
          "text": [
            "time = distance / rate\n",
            "rate =  34  km/h\n",
            "distance =  33.4  km\n",
            "time =  0.9823529411764705  hours\n"
          ]
        }
      ],
      "source": [
        "# MODIFY the code to solve:\n",
        "# j. An airplane flies with a constant speed of 880 km/h.\n",
        "#    How long will it take to travel a distance of 3652 kilometers?\n",
        "\n",
        "rate = 34\n",
        "distance = 33.4\n",
        "time = distance / rate\n",
        "\n",
        "print(\"time = distance / rate\")\n",
        "print(\"rate = \", rate, \" km/h\")\n",
        "print(\"distance = \", distance, \" km\")\n",
        "print(\"time = \", time, \" hours\")"
      ]
    },
    {
      "cell_type": "code",
      "execution_count": 13,
      "metadata": {
        "id": "ugEEdVVjhPRt"
      },
      "outputs": [
        {
          "name": "stdout",
          "output_type": "stream",
          "text": [
            "time = distance / rate\n",
            "rate =  34  km/h\n",
            "distance =  33.4  km\n",
            "time =  0.9823529411764705  hours\n"
          ]
        }
      ],
      "source": [
        "# MODIFY the code to solve:\n",
        "# k. A car drives with a constant speed of 103 km/h.\n",
        "#    How long will it take to travel a distance of 454.9 kilometers?\n",
        "\n",
        "rate = 34\n",
        "distance = 33.4\n",
        "time = distance / rate\n",
        "\n",
        "print(\"time = distance / rate\")\n",
        "print(\"rate = \", rate, \" km/h\")\n",
        "print(\"distance = \", distance, \" km\")\n",
        "print(\"time = \", time, \" hours\")"
      ]
    },
    {
      "cell_type": "code",
      "execution_count": 14,
      "metadata": {
        "id": "P9W__VJshfbA"
      },
      "outputs": [
        {
          "name": "stdout",
          "output_type": "stream",
          "text": [
            "time = distance / rate\n",
            "rate =  34  km/h\n",
            "distance =  33.4  km\n",
            "time =  0.9823529411764705  hours\n"
          ]
        }
      ],
      "source": [
        "# MODIFY the code to solve:\n",
        "# l. Bob rides his motorcycle with a constant speed of 30 km/h.\n",
        "# How long will it take to travel a distance of 17 kilometers?\n",
        "\n",
        "rate = 34\n",
        "distance = 33.4\n",
        "time = distance / rate\n",
        "\n",
        "print(\"time = distance / rate\")\n",
        "print(\"rate = \", rate, \" km/h\")\n",
        "print(\"distance = \", distance, \" km\")\n",
        "print(\"time = \", time, \" hours\")"
      ]
    },
    {
      "cell_type": "markdown",
      "metadata": {
        "id": "zaJX0-Z7iSvS"
      },
      "source": [
        "#4 Bonus: Decide which section should be used to solve these problems:\n",
        "\n",
        "m. Find speed when, distance is 142 km and time is 2 hours.\n",
        "\n",
        "n. Find out the distance covered when, speed is 960 km/hour and time is 5.5 hours.\n",
        "\n",
        "o. A cyclist covers 950 m in 5 minutes. Find his speed in km/ hour.\n",
        "\n",
        "p. Determine the time taken when, distance is 7150 km and speed is 780 km/hr.\n",
        "\n",
        "\n",
        "\n",
        "\n"
      ]
    },
    {
      "cell_type": "code",
      "execution_count": 15,
      "metadata": {
        "id": "L2qYcz0BixwJ"
      },
      "outputs": [],
      "source": [
        "# BONUS problem\n",
        "# m. Find speed when, distance is 142 km and time is 2 hours.\n"
      ]
    },
    {
      "cell_type": "code",
      "execution_count": 16,
      "metadata": {
        "id": "NH1zgRlXi3-E"
      },
      "outputs": [],
      "source": [
        "# BONUS problem\n",
        "# n. Find out the distance covered when, speed is 960 km/hour and time is 5.5 hours.\n"
      ]
    },
    {
      "cell_type": "code",
      "execution_count": 17,
      "metadata": {
        "id": "BnMDavaNjANH"
      },
      "outputs": [],
      "source": [
        "# BONUS problem\n",
        "# o. A cyclist covers 950 m in 5 minutes. Find his speed in km/ hour.\n"
      ]
    },
    {
      "cell_type": "code",
      "execution_count": 18,
      "metadata": {
        "id": "OYSeNp0djLuG"
      },
      "outputs": [],
      "source": [
        "# BONUS problem\n",
        "# p. Determine the time taken when, distance is 7150 km and speed is 780 km/hr.\n"
      ]
    },
    {
      "cell_type": "markdown",
      "metadata": {
        "id": "eL2wg2O8uqp8"
      },
      "source": [
        "# Working with lists\n",
        "\n",
        "Python allows us to create lists of numbers.\n",
        "You can store each list in a variable.\n",
        "\n",
        "We put the numbers inside [ ], each separated by a ,\n",
        "```\n",
        "A = [1, 2, 3]\n",
        "```\n",
        "\n",
        "We can print the result:\n",
        "```\n",
        "print(A)\n",
        "```\n",
        "\n",
        "## Assignment: Print a list\n",
        "Create and print a list of 2, 4, 6, 8."
      ]
    },
    {
      "cell_type": "code",
      "execution_count": 19,
      "metadata": {
        "colab": {
          "base_uri": "https://localhost:8080/"
        },
        "id": "x88_QGSCgATE",
        "outputId": "93d7f1db-bf27-4927-f383-79324aa85cf9"
      },
      "outputs": [
        {
          "name": "stdout",
          "output_type": "stream",
          "text": [
            "[1, 2, 3]\n"
          ]
        }
      ],
      "source": [
        "# Create a list of numbers and store in A:\n",
        "A = [1, 2, 3]\n",
        "\n",
        "# We can see the list using print(.)\n",
        "print(A)"
      ]
    },
    {
      "cell_type": "code",
      "execution_count": 20,
      "metadata": {
        "id": "JCWVjCvmZdUM"
      },
      "outputs": [],
      "source": [
        "# Print a list of the numbers 2, 4, 6, 8.\n"
      ]
    },
    {
      "cell_type": "markdown",
      "metadata": {
        "id": "LKUKCbLFftCn"
      },
      "source": [
        "# List of strings\n",
        "We can also create a list of strings in the same way:\n",
        "```\n",
        "Strings = [\"tortilla\", \"breakfast burrito\"]\n",
        "```\n",
        "\n",
        "## Assignment: Print a list of strings\n",
        "Run and study the following code.<br>\n",
        "Then, modify the code so that:\n",
        "1. Enter three favorite foods.\n",
        "2. Print all of the elements in the list."
      ]
    },
    {
      "cell_type": "code",
      "execution_count": 21,
      "metadata": {
        "colab": {
          "base_uri": "https://localhost:8080/"
        },
        "id": "6gsIgGU9grxW",
        "outputId": "736312be-77f9-4939-efd7-56af23a8f86a"
      },
      "outputs": [
        {
          "name": "stdout",
          "output_type": "stream",
          "text": [
            "['tortilla', 'breakfast burrito']\n"
          ]
        }
      ],
      "source": [
        "Strings = [\"tortilla\", \"breakfast burrito\"]\n",
        "print(Strings)"
      ]
    },
    {
      "cell_type": "code",
      "execution_count": 22,
      "metadata": {
        "id": "_N-OefN_Z1JY"
      },
      "outputs": [],
      "source": [
        "# Print a list of your favorite foods.\n"
      ]
    }
  ],
  "metadata": {
    "colab": {
      "include_colab_link": true,
      "provenance": [],
      "toc_visible": true
    },
    "kernelspec": {
      "display_name": "Python 3",
      "name": "python3"
    },
    "language_info": {
      "codemirror_mode": {
        "name": "ipython",
        "version": 3
      },
      "file_extension": ".py",
      "mimetype": "text/x-python",
      "name": "python",
      "nbconvert_exporter": "python",
      "pygments_lexer": "ipython3",
      "version": "3.10.13"
    }
  },
  "nbformat": 4,
  "nbformat_minor": 0
}
