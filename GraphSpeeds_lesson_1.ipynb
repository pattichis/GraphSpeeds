{
  "nbformat": 4,
  "nbformat_minor": 0,
  "metadata": {
    "colab": {
      "provenance": [],
      "toc_visible": true,
      "include_colab_link": true
    },
    "kernelspec": {
      "name": "python3",
      "display_name": "Python 3"
    },
    "language_info": {
      "name": "python"
    }
  },
  "cells": [
    {
      "cell_type": "markdown",
      "metadata": {
        "id": "view-in-github",
        "colab_type": "text"
      },
      "source": [
        "<a href=\"https://colab.research.google.com/github/pattichis/GraphSpeeds/blob/main/GraphSpeeds_lesson_1.ipynb\" target=\"_parent\"><img src=\"https://colab.research.google.com/assets/colab-badge.svg\" alt=\"Open In Colab\"/></a>"
      ]
    },
    {
      "cell_type": "markdown",
      "source": [
        "# Introduction to Variables\n",
        "\n",
        "Run the following code by clicking on the play button on the left.\n",
        "\n",
        "What can you see?\n",
        "\n",
        "Comments are used for making notes:\n",
        "\n",
        "```\n",
        "# After this special character, computer ignores the text.\n",
        "```\n",
        "\n",
        "A variable is created using the following line:\n",
        "```\n",
        "x = 3\n",
        "```\n",
        "Thus, the variable <tt>x</tt> stores the value 3.</br>\n",
        "<b>Whenever we see <tt>x</tt>, remember that <tt>x</tt> holds the value of 3.</b>\n",
        "\n",
        "We can see what <tt>x</tt> holds using:\n",
        "```\n",
        "print(x)\n",
        "```\n",
        "\n",
        "In programming, we say that <tt>print()</tt> is a\n",
        " <b>function</b>.\n",
        "\n",
        "We say that the variable <tt>x</tt> is an argument to\n",
        "   <tt>print()</tt>.\n",
        "\n",
        "We can change what we print by changing the variable <tt>a</tt>.   \n",
        "\n",
        "Carefully review the code line-by-line to understand how it works.\n",
        "\n",
        "## Assignment: understanding comments and variables\n",
        "\n",
        "Does the output change if you change a comment?\n",
        "\n",
        "Can you change the code so that it will print 5?"
      ],
      "metadata": {
        "id": "rbk-KSk6jo4D"
      }
    },
    {
      "cell_type": "code",
      "source": [
        "# Hello. This line is for humans to read.\n",
        "# It is not to be executed.\n",
        "# When you first type #, we have a comment. Typing here does not affect anything\n",
        "# Comments are used to explain programs to humans.\n",
        "# Computers do not execute the comments.\n",
        "\n",
        "# Computers use variables to store information.\n",
        "# In the following line, we store the number 3 in the variable \"x\"\n",
        "\n",
        "# What do you understand by saying that \"x\" is a variable?\n",
        "# Run this cell. Try a different value for \"x\".\n",
        "\n",
        "# Create another variable and experiment with different values.\n",
        "\n",
        "x = 3\n",
        "\n",
        "# print the value of x\n",
        "print(x)\n"
      ],
      "metadata": {
        "colab": {
          "base_uri": "https://localhost:8080/"
        },
        "id": "fDX4Rl0PjqJQ",
        "outputId": "e8ab80cb-9581-4af3-e996-daa3dd97bc23"
      },
      "execution_count": null,
      "outputs": [
        {
          "output_type": "stream",
          "name": "stdout",
          "text": [
            "3\n"
          ]
        }
      ]
    },
    {
      "cell_type": "markdown",
      "source": [
        "# Strings\n",
        "\n",
        "You can use variables to store characters.\n",
        "\n",
        "A collection of characters forms a string.\n",
        "\n",
        "So the following code stores your name in a variable:\n",
        "\n",
        "\n",
        "```\n",
        "MyString = \"A short phrase\"\n",
        "```\n",
        "From now on, MyString holds \"A short phrase\".\n",
        "\n",
        "\n",
        "Run the following code by clicking on the play button on the left.\n",
        "\n",
        "What can you see?\n",
        "\n",
        "Carefully read the code line-by-line to understand how it works.\n",
        "\n",
        "## Assignment: understanding strings\n",
        "\n",
        "Can you change the code so that it will print your name?\n"
      ],
      "metadata": {
        "id": "Rtuf2z61h0G_"
      }
    },
    {
      "cell_type": "code",
      "source": [
        "# STRINGS\n",
        "# Computers understand strings.\n",
        "# The following line creates a string and stores it in the variable MyString\n",
        "MyString = \"Hello World!\"\n",
        "\n",
        "# PRINTING\n",
        "# You can now see the string in a:\n",
        "print(MyString)"
      ],
      "metadata": {
        "colab": {
          "base_uri": "https://localhost:8080/"
        },
        "id": "hfSVgnVKd6SO",
        "outputId": "9a98a881-1427-4f0e-ca3e-dd208abda443"
      },
      "execution_count": null,
      "outputs": [
        {
          "output_type": "stream",
          "name": "stdout",
          "text": [
            "Hello World!\n"
          ]
        }
      ]
    },
    {
      "cell_type": "markdown",
      "source": [
        "# Computing rates\n",
        "Compute rates using ratios:\n",
        "```\n",
        "distance = 100   # 100 meters\n",
        "time     = 12    # 12 seconds\n",
        "rate = distance / time\n",
        "```\n",
        "We can print multiple entries using commas:\n",
        "```\n",
        "print(\"time = \", time, \" distance = \", distance)\n",
        "```\n",
        "\n",
        "## Assignment: understanding rates\n",
        "Run the example.\n",
        "1. Modify the example to compute the rate when the time is reduced to 10 seconds.\n",
        "2. Suppose that we want to double the rate we gate for time=10 seconds and distance=100 meters. Modify the time so that the rate is doubled.\n",
        "3. Repeat for making the rate three times faster."
      ],
      "metadata": {
        "id": "TNxqnBTNG2s4"
      }
    },
    {
      "cell_type": "code",
      "source": [
        "# Store the values in variables\n",
        "distance = 100\n",
        "time = 12\n",
        "rate = distance / time\n",
        "\n",
        "# print the calculation\n",
        "print(\"rate = distance / time\")\n",
        "print(\"distance  = \", distance)\n",
        "print(\"time = \", time)\n",
        "print(\"rate = \", rate)"
      ],
      "metadata": {
        "colab": {
          "base_uri": "https://localhost:8080/"
        },
        "id": "nh0H6mffnW2m",
        "outputId": "97a3dc8d-e531-4e84-8344-59e61e2f8420"
      },
      "execution_count": null,
      "outputs": [
        {
          "output_type": "stream",
          "name": "stdout",
          "text": [
            "rate = distance / time\n",
            "distance  =  100\n",
            "time =  12\n",
            "rate =  8.333333333333334\n"
          ]
        }
      ]
    },
    {
      "cell_type": "markdown",
      "source": [
        "# Compute distances from rates\n",
        "You can compute distances from rates using time:\n",
        "```\n",
        "rate = 10\n",
        "time = 20\n",
        "distance = rate*time\n",
        "```\n",
        "\n",
        "## Assignment: Compute distances from rates\n",
        "Run and understand the code.\n",
        "1. Modify the time to get twice the distance.\n",
        "2. Modify the rate to get twice the distance.\n"
      ],
      "metadata": {
        "id": "s4NjOWDbJGsZ"
      }
    },
    {
      "cell_type": "code",
      "source": [
        "# Save the variables\n",
        "rate = 10\n",
        "time = 20\n",
        "\n",
        "# Compute distance\n",
        "distance = rate*time\n",
        "\n",
        "print(\"distance = rate*time\")\n",
        "print(\"rate = \", rate)\n",
        "print(\"time = \", time)\n",
        "print(\"distance = \", distance)"
      ],
      "metadata": {
        "id": "8ofZRDrSs2Nb"
      },
      "execution_count": null,
      "outputs": []
    },
    {
      "cell_type": "markdown",
      "source": [
        "# Compute times from rates\n",
        "You can calculate time from rate and distance using:\n",
        "```\n",
        "rate = 10\n",
        "distance = 100\n",
        "time = distance / rate\n",
        "```\n",
        "## Assignment: Compute times from rates\n",
        "1. Change the rate so that it will take twice as long to reach distance=100.\n",
        "2. Change the rate so that it will take half as long to reach distance=100.\n",
        "\n"
      ],
      "metadata": {
        "id": "iwKPmnSJPqUC"
      }
    },
    {
      "cell_type": "code",
      "source": [
        "rate = 10\n",
        "distance = 100\n",
        "time = distance / rate\n",
        "\n",
        "print(\"time = distance / rate\")\n",
        "print(\"rate = \", rate)\n",
        "print(\"distance = \", distance)\n",
        "print(\"time = \", time)"
      ],
      "metadata": {
        "colab": {
          "base_uri": "https://localhost:8080/"
        },
        "id": "kKIhCrMTt7lG",
        "outputId": "1ec0da5f-fbbc-476d-a70c-5dacf146b5da"
      },
      "execution_count": 2,
      "outputs": [
        {
          "output_type": "stream",
          "name": "stdout",
          "text": [
            "time = distance / rate\n",
            "rate =  10\n",
            "distance =  100\n",
            "time =  10.0\n"
          ]
        }
      ]
    },
    {
      "cell_type": "markdown",
      "source": [
        "# Concatenating Strings = combining strings together\n",
        "\n",
        "Run the following code by clicking on the play button on the left.\n",
        "\n",
        "What can you see?\n",
        "\n",
        "Carefully read the code line-by-line to understand how it works.\n",
        "\n",
        "What does it mean to use + with two strings?\n",
        "\n",
        "## Assignment: combining strings\n",
        "\n",
        "Can you change the code so that it prints \"Hello Marios\"?\n",
        "\n",
        "Can you change the code so that it prints \"Hello your-name\"?"
      ],
      "metadata": {
        "id": "o9vq_aUxidy6"
      }
    },
    {
      "cell_type": "code",
      "source": [
        "MyName = \"Emily\"                 # Store \"Marios\" in MyName\n",
        "String = \"My name is \" + MyName   # Create a string by concatenating\n",
        "print(String)                     # Print the string"
      ],
      "metadata": {
        "colab": {
          "base_uri": "https://localhost:8080/"
        },
        "id": "w8yTuP4HdEHD",
        "outputId": "c0fd4dd1-af7a-4a05-ce97-ba2a8963888b"
      },
      "execution_count": null,
      "outputs": [
        {
          "output_type": "stream",
          "name": "stdout",
          "text": [
            "My name is Emily\n"
          ]
        }
      ]
    },
    {
      "cell_type": "markdown",
      "source": [
        "# Working with lists\n",
        "\n",
        "Python allows us to create lists of numbers.\n",
        "You can store each list in a variable.\n",
        "\n",
        "We put the numbers inside [ ], each separated by a ,\n",
        "```\n",
        "A = [1, 2, 3]\n",
        "```\n",
        "\n",
        "We can print the result:\n",
        "```\n",
        "print(A)\n",
        "```\n",
        "\n",
        "## Assignment\n",
        "Create and print a list of 2, 4, 6, 8."
      ],
      "metadata": {
        "id": "eL2wg2O8uqp8"
      }
    },
    {
      "cell_type": "code",
      "source": [
        "# Create a list of numbers and store in A:\n",
        "A = [1, 2, 3]\n",
        "\n",
        "# We can see the list using print(.)\n",
        "print(A)"
      ],
      "metadata": {
        "colab": {
          "base_uri": "https://localhost:8080/"
        },
        "id": "x88_QGSCgATE",
        "outputId": "5ad737c4-6aba-42dc-84f7-b50cb4f5b2ff"
      },
      "execution_count": null,
      "outputs": [
        {
          "output_type": "stream",
          "name": "stdout",
          "text": [
            "[1, 2, 3]\n"
          ]
        }
      ]
    },
    {
      "cell_type": "markdown",
      "source": [
        "# List elements\n",
        "You can access elements inside a list:\n",
        "```\n",
        "A = [9, 3, 5, 10]\n",
        "```\n",
        "We can also access list elements.\n",
        "We have:\n",
        "*   <tt>A[0]</tt> is 9.\n",
        "*   <tt>A[1]</tt> is 3.\n",
        "*   <tt>A[2]</tt> is 5.\n",
        "*   <tt>A[3]</tt> is 10.\n",
        "\n",
        "# Assignment\n",
        "Run and study the following code.\n",
        "\n",
        "1. Create a list of 10, 9, 5, 6.\n",
        "2. Print the first element.\n",
        "3. Print the last element.\n",
        "\n"
      ],
      "metadata": {
        "id": "OaPvPLkajfkl"
      }
    },
    {
      "cell_type": "code",
      "source": [
        "# Create a list\n",
        "A = [9, 3, 5, 10]\n",
        "\n",
        "# Print some elements\n",
        "print(A[1], A[2])"
      ],
      "metadata": {
        "colab": {
          "base_uri": "https://localhost:8080/"
        },
        "id": "eMdM0BuqX7to",
        "outputId": "3c33657a-b588-4b10-a5f4-e0dc23397342"
      },
      "execution_count": null,
      "outputs": [
        {
          "output_type": "stream",
          "name": "stdout",
          "text": [
            "3 5\n"
          ]
        }
      ]
    },
    {
      "cell_type": "markdown",
      "source": [
        "# List of strings\n",
        "We can also create a list of strings in the same way:\n",
        "```\n",
        "Strings = [\"tortilla\", \"breakfast burrito\"]\n",
        "```\n",
        "\n",
        "## Assignment\n",
        "Run and study the following code.<br>\n",
        "Then, modify the code so that:\n",
        "1. Enter three favorite foods.\n",
        "2. Print all of the elements in the list."
      ],
      "metadata": {
        "id": "LKUKCbLFftCn"
      }
    },
    {
      "cell_type": "code",
      "source": [
        "Strings = [\"tortilla\", \"breakfast burrito\"]\n",
        "print(Strings)"
      ],
      "metadata": {
        "colab": {
          "base_uri": "https://localhost:8080/"
        },
        "id": "6gsIgGU9grxW",
        "outputId": "8e0c566d-2457-4ecd-924b-4707c5982a32"
      },
      "execution_count": null,
      "outputs": [
        {
          "output_type": "stream",
          "name": "stdout",
          "text": [
            "['Marios', 'Sylvia']\n"
          ]
        }
      ]
    }
  ]
}